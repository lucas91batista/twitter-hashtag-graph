{
 "cells": [
  {
   "cell_type": "markdown",
   "metadata": {},
   "source": [
    "# Criando uma App no Twitter\n",
    "\n",
    "## Acessar o endereço abaixo e criar uma App: https://apps.twitter.com/\n",
    "\n",
    "Criar login, senha e logar\n",
    "\n",
    "Criar uma nova App clicando em Create New App\n",
    "\n",
    "Definir os detalhes da aplicação: nome, descrição, website, etc\n",
    "\n",
    "**No menu \"Keys and Tokens\" gerar as chaves da App para usar na configuração do Flume e substituir no arquivo twitterAgent.conf abaixo.**"
   ]
  },
  {
   "cell_type": "markdown",
   "metadata": {},
   "source": [
    "# Configurando o agent, source, channel e sink\n",
    "\n",
    "**Agent**: Apenas um agente chamado *TwitterAgent*\n",
    "\n",
    "**Source**: Twitter\n",
    "\n",
    "**Channel**: Memória\n",
    "\n",
    "**Sink**: Registra os dados no HDFS"
   ]
  },
  {
   "cell_type": "code",
   "execution_count": 1,
   "metadata": {},
   "outputs": [
    {
     "name": "stdout",
     "output_type": "stream",
     "text": [
      "#Nome dos componentes do agente\n",
      "TwitterAgent.sources = Twitter\n",
      "TwitterAgent.channels = MemChannel\n",
      "TwitterAgent.sinks = HDFS\n",
      "\n",
      "#Configuração do Source\n",
      "TwitterAgent.sources.Twitter.type = com.cloudera.flume.source.TwitterSource\n",
      "TwitterAgent.sources.Twitter.consumerKey = UlUqG3hE7gEPxIyxxidbv9tS2\n",
      "TwitterAgent.sources.Twitter.consumerSecret = y4tx7Wrblrcm8zsiHddYC7mE79rM5fgtHoVfi1IY5TXX7315mz\n",
      "TwitterAgent.sources.Twitter.accessToken = 1046705580-nJYZLCvR34l40tUwT1cqxqpF96yymjrhHibQCz3\n",
      "TwitterAgent.sources.Twitter.accessTokenSecret = kLkEE5JdvwKFNSrFBCXaxymSOBzmaBJJqL19CpB1rKmpA\n",
      "TwitterAgent.sources.Twitter.keywords = #hadoop, #flume, #bigdata\n",
      "\n",
      "#Configuração do Sink\n",
      "TwitterAgent.sinks.HDFS.type = hdfs\n",
      "TwitterAgent.sinks.HDFS.hdfs.path = hdfs://localhost:9000/user/lucasbatista\n",
      "TwitterAgent.sinks.HDFS.hdfs.fileType = DataStream\n",
      "TwitterAgent.sinks.HDFS.hdfs.writeFormat = Text\n",
      "\n",
      "#number of events written to file before it is flushed to HDFS\n",
      "TwitterAgent.sinks.HDFS.hdfs.batchSize = 50 \n",
      "\n",
      "#File size to trigger roll, in bytes (0: never roll based on file size)\n",
      "TwitterAgent.sinks.HDFS.hdfs.rollSize = 0\n",
      "\n",
      "#Number of events written to file before it rolled (0 = never roll based on number of events)\n",
      "TwitterAgent.sinks.HDFS.hdfs.rollCount = 50\n",
      "\n",
      "#Number of seconds to wait before rolling current file (0 = never roll based on time interval)\n",
      "TwitterAgent.sinks.HDFS.hdfs.rollInterval = 0\n",
      "\n",
      "#Configuração do Channel\n",
      "TwitterAgent.channels.MemChannel.type = memory\n",
      "#The maximum number of events stored in the channel\n",
      "TwitterAgent.channels.MemChannel.capacity = 100\n",
      "#The maximum number of events the channel will take from a source or give to a sink per transaction\n",
      "TwitterAgent.channels.MemChannel.transactionCapacity = 100\n",
      "\n",
      "#Conectando Source, Sink, Channel\n",
      "TwitterAgent.sources.Twitter.channels = MemChannel\n",
      "TwitterAgent.sinks.HDFS.channel = MemChannel\n",
      "\n",
      "\n",
      "#https://developer.twitter.com/en/docs/tweets/data-dictionary/overview/intro-to-tweet-json\n",
      "#https://developer.twitter.com/en/docs/tweets/data-dictionary/overview/tweet-object"
     ]
    }
   ],
   "source": [
    "!cat twitterAgent.conf"
   ]
  },
  {
   "cell_type": "markdown",
   "metadata": {},
   "source": [
    "## Nota: \n",
    "Usando as configurações descritas no site do Flume - **TwitterAgent.sources.Twitter.type = org.apache.flume.source.twitter.TwitterSource** - na configuração do source, o arquivo é gerado com caracteres ilegíveis. Assim, iremos utilizar **TwitterAgent.sources.Twitter.type = com.cloudera.flume.source.TwitterSource** e temos que copiar o arquivo flume-sources-1.0-SNAPSHOT.jar para a pasta do Flume para o seu correto funcionamento."
   ]
  },
  {
   "cell_type": "code",
   "execution_count": 2,
   "metadata": {},
   "outputs": [],
   "source": [
    "!cp resources/flume-sources-1.0-SNAPSHOT.jar ~/resources/local/flume-${FLUME_VERSION}/lib"
   ]
  },
  {
   "cell_type": "markdown",
   "metadata": {},
   "source": [
    "# Abrir um terminal e iniciar o FlumeAgent\n",
    "\n",
    "Espere um tempo para o download de alguns tweets\n",
    "``` bash\n",
    "flume-ng agent --conf conf --conf-file twitterAgent.conf --name TwitterAgent -Dflume.looger=INFO,console\n",
    "``` "
   ]
  },
  {
   "cell_type": "markdown",
   "metadata": {},
   "source": [
    "# TrendTopics com MapReduce\n",
    "Criando um rank de hashtags"
   ]
  },
  {
   "cell_type": "code",
   "execution_count": 7,
   "metadata": {},
   "outputs": [
    {
     "name": "stdout",
     "output_type": "stream",
     "text": [
      "No configs found; falling back on auto-configuration\n",
      "No configs specified for hadoop runner\n",
      "Traceback (most recent call last):\n",
      "  File \"mrjob-hashtag-rank.py\", line 30, in <module>\n",
      "    RankHashtag.run()\n",
      "  File \"/srv/conda/envs/notebook/lib/python3.7/site-packages/mrjob/job.py\", line 446, in run\n",
      "    mr_job.execute()\n",
      "  File \"/srv/conda/envs/notebook/lib/python3.7/site-packages/mrjob/job.py\", line 473, in execute\n",
      "    super(MRJob, self).execute()\n",
      "  File \"/srv/conda/envs/notebook/lib/python3.7/site-packages/mrjob/launch.py\", line 202, in execute\n",
      "    self.run_job()\n",
      "  File \"/srv/conda/envs/notebook/lib/python3.7/site-packages/mrjob/launch.py\", line 247, in run_job\n",
      "    runner.run()\n",
      "  File \"/srv/conda/envs/notebook/lib/python3.7/site-packages/mrjob/runner.py\", line 505, in run\n",
      "    self._check_input_paths()\n",
      "  File \"/srv/conda/envs/notebook/lib/python3.7/site-packages/mrjob/runner.py\", line 1157, in _check_input_paths\n",
      "    self._check_input_path(path)\n",
      "  File \"/srv/conda/envs/notebook/lib/python3.7/site-packages/mrjob/runner.py\", line 1171, in _check_input_path\n",
      "    'Input path %s does not exist!' % (path,))\n",
      "OSError: Input path local-home/git/twitter-hashtag-graph/FlumeData.* does not exist!\n"
     ]
    }
   ],
   "source": [
    "!python mrjob-hashtag-rank.py -r hadoop --hadoop-streaming-jar $HADOOP_HOME/share/hadoop/tools/lib/hadoop-streaming-2.9.2.jar local-home/git/twitter-hashtag-graph/FlumeData.*"
   ]
  },
  {
   "cell_type": "markdown",
   "metadata": {},
   "source": [
    "# Criando grafo de Hashtags e usuários"
   ]
  },
  {
   "cell_type": "code",
   "execution_count": null,
   "metadata": {},
   "outputs": [],
   "source": [
    "from py2neo import Graph\n",
    "graph = Graph(\"bolt://127.0.0.1:7687\")\n",
    "graph.delete_all()\n",
    "\n",
    "print(\"Number of nodes: {} \".format(len(graph.nodes)))\n",
    "print(\"Number of relationships: {} \".format(len(graph.nodes)))"
   ]
  },
  {
   "cell_type": "code",
   "execution_count": null,
   "metadata": {},
   "outputs": [],
   "source": [
    "!python twitterMRJob.py -r hadoop --hadoop-streaming-jar $HADOOP_HOME/share/hadoop/tools/lib/hadoop-streaming-2.9.2.jar hdfs:///user/lucasbatista/FlumeData.*"
   ]
  },
  {
   "cell_type": "code",
   "execution_count": null,
   "metadata": {},
   "outputs": [],
   "source": [
    "import sys\n",
    "sys.path.insert(0, 'resources/python/')\n",
    "\n",
    "from graphdrawer.visgraph import draw\n",
    "\n",
    "options = {\"User\": \"id\", \"Hashtag\": \"hashtag\"}\n",
    "draw(graph, options, physics=True)"
   ]
  },
  {
   "cell_type": "code",
   "execution_count": null,
   "metadata": {},
   "outputs": [],
   "source": []
  }
 ],
 "metadata": {
  "kernelspec": {
   "display_name": "Python 3",
   "language": "python",
   "name": "python3"
  },
  "language_info": {
   "codemirror_mode": {
    "name": "ipython",
    "version": 3
   },
   "file_extension": ".py",
   "mimetype": "text/x-python",
   "name": "python",
   "nbconvert_exporter": "python",
   "pygments_lexer": "ipython3",
   "version": "3.7.3"
  }
 },
 "nbformat": 4,
 "nbformat_minor": 2
}
